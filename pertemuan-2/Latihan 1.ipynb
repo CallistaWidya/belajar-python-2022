{
 "cells": [
  {
   "cell_type": "code",
   "execution_count": 3,
   "id": "f72c808a",
   "metadata": {},
   "outputs": [
    {
     "name": "stdout",
     "output_type": "stream",
     "text": [
      "Biodata Idola\n",
      "Nama :  Taylor Swift\n",
      "TTL :  Pennsylvania, 13 Desember 1989\n",
      "Umur :  33 Tahun\n",
      "Tinggi Badan :  180 cm\n",
      "Profesi :  Penyanyi, Penulis lagu, Aktris\n"
     ]
    }
   ],
   "source": [
    "print(\"Biodata Idola\")\n",
    "\n",
    "nama=\"Taylor Swift\"\n",
    "TTL=\"Pennsylvania, 13 Desember 1989\"\n",
    "umur=33\n",
    "tinggi=\"180 cm\"\n",
    "profesi=\"Penyanyi, Penulis lagu, Aktris\"\n",
    "\n",
    "print(\"Nama : \",nama)\n",
    "print(\"TTL : \",TTL)\n",
    "print(\"Umur : \",umur,\"Tahun\")\n",
    "print(\"Tinggi Badan : \",tinggi)\n",
    "print(\"Profesi : \",profesi)"
   ]
  },
  {
   "cell_type": "code",
   "execution_count": null,
   "id": "6c6bf714",
   "metadata": {},
   "outputs": [],
   "source": []
  }
 ],
 "metadata": {
  "kernelspec": {
   "display_name": "Python 3 (ipykernel)",
   "language": "python",
   "name": "python3"
  },
  "language_info": {
   "codemirror_mode": {
    "name": "ipython",
    "version": 3
   },
   "file_extension": ".py",
   "mimetype": "text/x-python",
   "name": "python",
   "nbconvert_exporter": "python",
   "pygments_lexer": "ipython3",
   "version": "3.9.12"
  }
 },
 "nbformat": 4,
 "nbformat_minor": 5
}
